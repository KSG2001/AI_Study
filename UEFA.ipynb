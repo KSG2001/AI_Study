{
  "nbformat": 4,
  "nbformat_minor": 0,
  "metadata": {
    "colab": {
      "provenance": [],
      "include_colab_link": true
    },
    "kernelspec": {
      "name": "python3",
      "display_name": "Python 3"
    },
    "language_info": {
      "name": "python"
    }
  },
  "cells": [
    {
      "cell_type": "markdown",
      "metadata": {
        "id": "view-in-github",
        "colab_type": "text"
      },
      "source": [
        "<a href=\"https://colab.research.google.com/github/KSG2001/AI_Study/blob/UEFA/UEFA.ipynb\" target=\"_parent\"><img src=\"https://colab.research.google.com/assets/colab-badge.svg\" alt=\"Open In Colab\"/></a>"
      ]
    },
    {
      "cell_type": "markdown",
      "source": [
        "# UEFA 챔피언스 리그"
      ],
      "metadata": {
        "id": "CdAL-fbfTSFi"
      }
    },
    {
      "cell_type": "code",
      "source": [
        "import sys\n",
        "print(sys.version)"
      ],
      "metadata": {
        "colab": {
          "base_uri": "https://localhost:8080/"
        },
        "id": "a4RSLMDqBlUN",
        "outputId": "650f5265-3317-472c-fd05-79418c262892"
      },
      "execution_count": null,
      "outputs": [
        {
          "output_type": "stream",
          "name": "stdout",
          "text": [
            "3.8.16 (default, Dec  7 2022, 01:12:13) \n",
            "[GCC 7.5.0]\n"
          ]
        }
      ]
    },
    {
      "cell_type": "code",
      "source": [
        "!conda install python-graphviz"
      ],
      "metadata": {
        "colab": {
          "base_uri": "https://localhost:8080/"
        },
        "id": "PgBd0PAxU9oZ",
        "outputId": "d3d2a531-5b80-4401-8df4-dac5d12f5c73"
      },
      "execution_count": null,
      "outputs": [
        {
          "output_type": "stream",
          "name": "stdout",
          "text": [
            "/bin/bash: conda: command not found\n"
          ]
        }
      ]
    },
    {
      "cell_type": "code",
      "source": [
        "import numpy as np\n",
        "import pandas as pd\n",
        "import random\n",
        "import matplotlib.pyplot as plt\n",
        "import cv2\n",
        "import graphviz"
      ],
      "metadata": {
        "id": "ihl-nF36U7cI"
      },
      "execution_count": null,
      "outputs": []
    },
    {
      "cell_type": "code",
      "source": [
        "graphviz.__version__"
      ],
      "metadata": {
        "id": "G7Udm-eLCU1K",
        "outputId": "e7b34d70-ce08-427e-be0c-9a5f11069a45",
        "colab": {
          "base_uri": "https://localhost:8080/",
          "height": 35
        }
      },
      "execution_count": null,
      "outputs": [
        {
          "output_type": "execute_result",
          "data": {
            "text/plain": [
              "'0.10.1'"
            ],
            "application/vnd.google.colaboratory.intrinsic+json": {
              "type": "string"
            }
          },
          "metadata": {},
          "execution_count": 4
        }
      ]
    },
    {
      "cell_type": "code",
      "source": [
        "from google.colab import drive\n",
        "\n",
        "!jupyter nbconvert --to markdown \"/content/gdrive/MyDrive/lab_study/UEFA.ipynb\"\n",
        "\n",
        "drive.mount('/content/gdrive')\n",
        "print('/content/gdrive/lab_study/UEFA.txt')\n",
        "f= open(\"/content/gdrive/MyDrive/lab_study/UEFA.txt\",'r')\n",
        "data=f.read().splitlines()\n",
        "UEFA=[x.split() for x in data]\n",
        "print(UEFA)"
      ],
      "metadata": {
        "colab": {
          "base_uri": "https://localhost:8080/"
        },
        "id": "pq_wf7ktU-qr",
        "outputId": "80628288-3be5-4b49-a7d2-d72639500ca2"
      },
      "execution_count": null,
      "outputs": [
        {
          "output_type": "stream",
          "name": "stdout",
          "text": [
            "[NbConvertApp] WARNING | pattern '/content/gdrive/MyDrive/lab_study/UEFA.ipynb' matched no files\n",
            "This application is used to convert notebook files (*.ipynb)\n",
            "        to various other formats.\n",
            "\n",
            "        WARNING: THE COMMANDLINE INTERFACE MAY CHANGE IN FUTURE RELEASES.\n",
            "\n",
            "Options\n",
            "=======\n",
            "The options below are convenience aliases to configurable class-options,\n",
            "as listed in the \"Equivalent to\" description-line of the aliases.\n",
            "To see all configurable class-options for some <cmd>, use:\n",
            "    <cmd> --help-all\n",
            "\n",
            "--debug\n",
            "    set log level to logging.DEBUG (maximize logging output)\n",
            "    Equivalent to: [--Application.log_level=10]\n",
            "--show-config\n",
            "    Show the application's configuration (human-readable format)\n",
            "    Equivalent to: [--Application.show_config=True]\n",
            "--show-config-json\n",
            "    Show the application's configuration (json format)\n",
            "    Equivalent to: [--Application.show_config_json=True]\n",
            "--generate-config\n",
            "    generate default config file\n",
            "    Equivalent to: [--JupyterApp.generate_config=True]\n",
            "-y\n",
            "    Answer yes to any questions instead of prompting.\n",
            "    Equivalent to: [--JupyterApp.answer_yes=True]\n",
            "--execute\n",
            "    Execute the notebook prior to export.\n",
            "    Equivalent to: [--ExecutePreprocessor.enabled=True]\n",
            "--allow-errors\n",
            "    Continue notebook execution even if one of the cells throws an error and include the error message in the cell output (the default behaviour is to abort conversion). This flag is only relevant if '--execute' was specified, too.\n",
            "    Equivalent to: [--ExecutePreprocessor.allow_errors=True]\n",
            "--stdin\n",
            "    read a single notebook file from stdin. Write the resulting notebook with default basename 'notebook.*'\n",
            "    Equivalent to: [--NbConvertApp.from_stdin=True]\n",
            "--stdout\n",
            "    Write notebook output to stdout instead of files.\n",
            "    Equivalent to: [--NbConvertApp.writer_class=StdoutWriter]\n",
            "--inplace\n",
            "    Run nbconvert in place, overwriting the existing notebook (only \n",
            "            relevant when converting to notebook format)\n",
            "    Equivalent to: [--NbConvertApp.use_output_suffix=False --NbConvertApp.export_format=notebook --FilesWriter.build_directory=]\n",
            "--clear-output\n",
            "    Clear output of current file and save in place, \n",
            "            overwriting the existing notebook.\n",
            "    Equivalent to: [--NbConvertApp.use_output_suffix=False --NbConvertApp.export_format=notebook --FilesWriter.build_directory= --ClearOutputPreprocessor.enabled=True]\n",
            "--no-prompt\n",
            "    Exclude input and output prompts from converted document.\n",
            "    Equivalent to: [--TemplateExporter.exclude_input_prompt=True --TemplateExporter.exclude_output_prompt=True]\n",
            "--no-input\n",
            "    Exclude input cells and output prompts from converted document. \n",
            "            This mode is ideal for generating code-free reports.\n",
            "    Equivalent to: [--TemplateExporter.exclude_output_prompt=True --TemplateExporter.exclude_input=True]\n",
            "--log-level=<Enum>\n",
            "    Set the log level by value or name.\n",
            "    Choices: any of [0, 10, 20, 30, 40, 50, 'DEBUG', 'INFO', 'WARN', 'ERROR', 'CRITICAL']\n",
            "    Default: 30\n",
            "    Equivalent to: [--Application.log_level]\n",
            "--config=<Unicode>\n",
            "    Full path of a config file.\n",
            "    Default: ''\n",
            "    Equivalent to: [--JupyterApp.config_file]\n",
            "--to=<Unicode>\n",
            "    The export format to be used, either one of the built-in formats\n",
            "            ['asciidoc', 'custom', 'html', 'latex', 'markdown', 'notebook', 'pdf', 'python', 'rst', 'script', 'slides']\n",
            "            or a dotted object name that represents the import path for an\n",
            "            `Exporter` class\n",
            "    Default: 'html'\n",
            "    Equivalent to: [--NbConvertApp.export_format]\n",
            "--template=<Unicode>\n",
            "    Name of the template file to use\n",
            "    Default: ''\n",
            "    Equivalent to: [--TemplateExporter.template_file]\n",
            "--writer=<DottedObjectName>\n",
            "    Writer class used to write the \n",
            "                                        results of the conversion\n",
            "    Default: 'FilesWriter'\n",
            "    Equivalent to: [--NbConvertApp.writer_class]\n",
            "--post=<DottedOrNone>\n",
            "    PostProcessor class used to write the\n",
            "                                        results of the conversion\n",
            "    Default: ''\n",
            "    Equivalent to: [--NbConvertApp.postprocessor_class]\n",
            "--output=<Unicode>\n",
            "    overwrite base name use for output files.\n",
            "                can only be used when converting one notebook at a time.\n",
            "    Default: ''\n",
            "    Equivalent to: [--NbConvertApp.output_base]\n",
            "--output-dir=<Unicode>\n",
            "    Directory to write output(s) to. Defaults\n",
            "                                  to output to the directory of each notebook. To recover\n",
            "                                  previous default behaviour (outputting to the current \n",
            "                                  working directory) use . as the flag value.\n",
            "    Default: ''\n",
            "    Equivalent to: [--FilesWriter.build_directory]\n",
            "--reveal-prefix=<Unicode>\n",
            "    The URL prefix for reveal.js (version 3.x).\n",
            "            This defaults to the reveal CDN, but can be any url pointing to a copy \n",
            "            of reveal.js. \n",
            "            For speaker notes to work, this must be a relative path to a local \n",
            "            copy of reveal.js: e.g., \"reveal.js\".\n",
            "            If a relative path is given, it must be a subdirectory of the\n",
            "            current directory (from which the server is run).\n",
            "            See the usage documentation\n",
            "            (https://nbconvert.readthedocs.io/en/latest/usage.html#reveal-js-html-slideshow)\n",
            "            for more details.\n",
            "    Default: ''\n",
            "    Equivalent to: [--SlidesExporter.reveal_url_prefix]\n",
            "--nbformat=<Enum>\n",
            "    The nbformat version to write.\n",
            "            Use this to downgrade notebooks.\n",
            "    Choices: any of [1, 2, 3, 4]\n",
            "    Default: 4\n",
            "    Equivalent to: [--NotebookExporter.nbformat_version]\n",
            "\n",
            "Examples\n",
            "--------\n",
            "\n",
            "    The simplest way to use nbconvert is\n",
            "\n",
            "            > jupyter nbconvert mynotebook.ipynb\n",
            "\n",
            "            which will convert mynotebook.ipynb to the default format (probably HTML).\n",
            "\n",
            "            You can specify the export format with `--to`.\n",
            "            Options include ['asciidoc', 'custom', 'html', 'latex', 'markdown', 'notebook', 'pdf', 'python', 'rst', 'script', 'slides'].\n",
            "\n",
            "            > jupyter nbconvert --to latex mynotebook.ipynb\n",
            "\n",
            "            Both HTML and LaTeX support multiple output templates. LaTeX includes\n",
            "            'base', 'article' and 'report'.  HTML includes 'basic' and 'full'. You\n",
            "            can specify the flavor of the format used.\n",
            "\n",
            "            > jupyter nbconvert --to html --template basic mynotebook.ipynb\n",
            "\n",
            "            You can also pipe the output to stdout, rather than a file\n",
            "\n",
            "            > jupyter nbconvert mynotebook.ipynb --stdout\n",
            "\n",
            "            PDF is generated via latex\n",
            "\n",
            "            > jupyter nbconvert mynotebook.ipynb --to pdf\n",
            "\n",
            "            You can get (and serve) a Reveal.js-powered slideshow\n",
            "\n",
            "            > jupyter nbconvert myslides.ipynb --to slides --post serve\n",
            "\n",
            "            Multiple notebooks can be given at the command line in a couple of \n",
            "            different ways:\n",
            "\n",
            "            > jupyter nbconvert notebook*.ipynb\n",
            "            > jupyter nbconvert notebook1.ipynb notebook2.ipynb\n",
            "\n",
            "            or you can specify the notebooks list in a config file, containing::\n",
            "\n",
            "                c.NbConvertApp.notebooks = [\"my_notebook.ipynb\"]\n",
            "\n",
            "            > jupyter nbconvert --config mycfg.py\n",
            "\n",
            "To see all available configurables, use `--help-all`.\n",
            "\n"
          ]
        }
      ]
    },
    {
      "cell_type": "markdown",
      "source": [
        "## 함수 define 부분"
      ],
      "metadata": {
        "id": "hwXNu8QzTeXL"
      }
    },
    {
      "cell_type": "markdown",
      "source": [
        "### 포트를 조로 변경해주는 함수"
      ],
      "metadata": {
        "id": "j_jsea4WTkka"
      }
    },
    {
      "cell_type": "code",
      "source": [
        "def Team_selet(port1,port2,port3,port4):\n",
        "  team=[]\n",
        "  for i in range(len(port1)):\n",
        "    team=team+[port1[i]]\n",
        "    team=team+[port2[i]]\n",
        "    team=team+[port3[i]]\n",
        "    team=team+[port4[i]]\n",
        "  groupA=team[0:4]\n",
        "  groupB=team[4:8]\n",
        "  groupC=team[8:12]\n",
        "  groupD=team[12:16]\n",
        "  groupE=team[16:20]\n",
        "  groupF=team[20:24]\n",
        "  groupG=team[24:28]\n",
        "  groupH=team[28:32]\n",
        "  return groupA,groupB,groupC,groupD,groupE,groupF,groupG,groupH  "
      ],
      "metadata": {
        "id": "QUg62lb2VA_n"
      },
      "execution_count": null,
      "outputs": []
    },
    {
      "cell_type": "markdown",
      "source": [
        "### 팀별 점수 부여 함수"
      ],
      "metadata": {
        "id": "YcWAAWJYTpMb"
      }
    },
    {
      "cell_type": "code",
      "source": [
        "def Score(home,go):\n",
        "\n",
        "  # 각 팀마다 랜덤 점수 부여\n",
        "  home_goal = random.choices(range(0,6), weights= [0.2,0.25,0.25,0.15,0.1,0.05]) # 홈에서 경기하는 팀\n",
        "  go_goal = random.choices(range(0,6), weights= [0.2,0.25,0.25,0.15,0.1,0.05]) # 원정 가서 경기하는 팀\n",
        "\n",
        "  home_score = go_score = 0\n",
        "\n",
        "  # 규칙1 승점 차이 \n",
        "  if home_goal > go_goal:\n",
        "    home_score += 3 * 1000\n",
        "    go_score += 0 * 1000\n",
        "  elif home_goal == go_goal:\n",
        "    home_score += 1 * 1000\n",
        "    go_score += 1 * 1000\n",
        "  else:\n",
        "    home_score += 0 * 1000\n",
        "    go_score += 3 * 1000\n",
        "\n",
        "  # 규칙2 득실차\n",
        "  if home_goal > go_goal:\n",
        "    home_score += ((home_goal[0] - go_goal[0]) * 100)\n",
        "    go_score += ((home_goal[0] - go_goal[0]) * 100)\n",
        "\n",
        "  elif home_goal == go_goal:\n",
        "    home_score += ((home_goal[0] - go_goal[0]) * 100)\n",
        "    go_score += ((home_goal[0] - go_goal[0]) * 100)\n",
        "  else:\n",
        "    home_score += ((go_goal[0] - home_goal[0]) * 100)\n",
        "    go_score += ((go_goal[0] - home_goal[0]) * 100)\n",
        "\n",
        "  # 규칙3 다득점\n",
        "  home_score += home_goal[0] * 10\n",
        "  go_score += go_goal[0] * 10\n",
        "\n",
        "  # 규칙4 원정 & 홈\n",
        "  home_score += 0\n",
        "  go_score += 5\n",
        "\n",
        "  return home_score, go_score"
      ],
      "metadata": {
        "id": "4EK0Hm51VDRA"
      },
      "execution_count": null,
      "outputs": []
    },
    {
      "cell_type": "markdown",
      "source": [
        "### 승부차기 점수 부여 함수"
      ],
      "metadata": {
        "id": "pkwCjg3vTvcL"
      }
    },
    {
      "cell_type": "code",
      "source": [
        "def Score_shoot(A,B):\n",
        "\n",
        "  # A의 홈경기\n",
        "  score_Ah,score_Bg=Score(A,B)\n",
        "\n",
        "  # B의 홈경기\n",
        "  score_Bh,score_Ag=Score(B,A)\n",
        "\n",
        "  score_At = score_Ah + score_Ag\n",
        "  score_Bt = score_Bh + score_Bg\n",
        "\n",
        "  if score_At==score_Bt:\n",
        "    sc_sh_A = random.randrange(0,6)\n",
        "    sc_sh_B = random.randrange(0,6)\n",
        "\n",
        "    score_At += sc_sh_A\n",
        "    score_Bt += sc_sh_B\n",
        "\n",
        "    while score_At==score_Bt:\n",
        "      sc_sh_A_1 = random.randrange(0,2)\n",
        "      sc_sh_B_1 = random.randrange(0,2)\n",
        "\n",
        "      score_At += sc_sh_A_1\n",
        "      score_Bt += sc_sh_B_1\n",
        "\n",
        "\n",
        "  return score_At, score_Bt"
      ],
      "metadata": {
        "id": "14cJZzKnVFKJ"
      },
      "execution_count": null,
      "outputs": []
    },
    {
      "cell_type": "markdown",
      "source": [
        "### 32강 경기 함수"
      ],
      "metadata": {
        "id": "wQvP3n1VT0tn"
      }
    },
    {
      "cell_type": "code",
      "source": [
        "def Ranking(A,B,C,D):\n",
        "\n",
        "  rank = []\n",
        "\n",
        "  # 1 ~ 12 번째 까지의 경기\n",
        "  # Home 경기\n",
        "  score_A_1,score_B_1=Score(A,B)\n",
        "  score_A_2,score_C_2=Score(A,C)\n",
        "  score_A_3,score_D_1=Score(A,D)\n",
        "  score_B_2,score_C_3=Score(B,C)\n",
        "  score_B_3,score_D_2=Score(B,D)\n",
        "  score_C_1,score_D_3=Score(C,D)\n",
        "\n",
        "  # go 경기\n",
        "  score_B_4,score_A_4=Score(B,A)\n",
        "  score_C_4,score_A_5=Score(C,A)\n",
        "  score_D_4,score_A_6=Score(D,A)\n",
        "  score_C_5,score_B_5=Score(C,B)\n",
        "  score_D_5,score_B_6=Score(D,B)\n",
        "  score_D_6,score_C_6=Score(D,C)\n",
        "\n",
        "  # 각 팀마다의 경기 점수 총합\n",
        "  team_A = score_A_1 + score_A_2 + score_A_3 + score_A_4 + score_A_5 + score_A_6 \n",
        "  team_B = score_B_1 + score_B_2 + score_B_3 + score_B_4 + score_B_5 + score_B_6 \n",
        "  team_C = score_C_1 + score_C_2 + score_C_3 + score_C_4 + score_C_5 + score_C_6 \n",
        "  team_D = score_D_1 + score_D_2 + score_D_3 + score_D_4 + score_D_5 + score_D_6 \n",
        "\n",
        "  rank.append([team_A,A])\n",
        "  rank.append([team_B,B])\n",
        "  rank.append([team_C,C])\n",
        "  rank.append([team_D,D])\n",
        "\n",
        "  rank.sort(reverse=True)\n",
        "\n",
        "  return rank[0][1], rank[1][1], team_A, team_B, team_C, team_D"
      ],
      "metadata": {
        "id": "WsJbWIoDVHqw"
      },
      "execution_count": null,
      "outputs": []
    },
    {
      "cell_type": "markdown",
      "source": [],
      "metadata": {
        "id": "tCUN-sJLAU9P"
      }
    },
    {
      "cell_type": "markdown",
      "source": [
        "### 토너먼트 경기 함수"
      ],
      "metadata": {
        "id": "grCo534vT-El"
      }
    },
    {
      "cell_type": "code",
      "source": [
        "def Match(A,B):\n",
        "\n",
        "  Match = []\n",
        "\n",
        "  score_A, score_B = Score_shoot(A,B)\n",
        "\n",
        "  Match.append([score_A,A])\n",
        "  Match.append([score_B,B])\n",
        "\n",
        "  Match.sort(reverse=True)\n",
        "\n",
        "  return Match[0][1],  Match[0][0], Match[1][0]"
      ],
      "metadata": {
        "id": "kZzJAiK3VL4D"
      },
      "execution_count": null,
      "outputs": []
    },
    {
      "cell_type": "markdown",
      "source": [
        "### 시각화에 필요한 함수"
      ],
      "metadata": {
        "id": "HfUpMiYuVxJr"
      }
    },
    {
      "cell_type": "code",
      "source": [
        "def save_graph_as_svg(dot_string, output_file_name):\n",
        "    if type(dot_string) is str:\n",
        "        g = graphviz.Source(dot_string)\n",
        "    elif isinstance(dot_string, (graphviz.dot.Digraph, graphviz.dot.Graph)):\n",
        "        g = dot_string\n",
        "    g.format='svg'\n",
        "    g.filename = output_file_name\n",
        "    g.directory = '../../assets/images/markdown_img/'\n",
        "    g.render(view=False)\n",
        "    return g"
      ],
      "metadata": {
        "id": "gYmqDkJMV0Pp"
      },
      "execution_count": null,
      "outputs": []
    },
    {
      "cell_type": "markdown",
      "source": [
        "## UEFA 경기 "
      ],
      "metadata": {
        "id": "uE1a9JAZUNjs"
      }
    },
    {
      "cell_type": "markdown",
      "source": [
        "### 포트 & 그룹 편성"
      ],
      "metadata": {
        "id": "Q-CBWEDWVTeL"
      }
    },
    {
      "cell_type": "markdown",
      "source": [
        "#### 포트 편성"
      ],
      "metadata": {
        "id": "I2WpMvauVX4r"
      }
    },
    {
      "cell_type": "code",
      "source": [
        "UEFA_name = sum(UEFA,[])\n",
        "UEFA_name_port = sum(UEFA,[])\n",
        "\n",
        "port1 = random.sample(UEFA_name_port, 8)\n",
        "for i in range(len(port1)):\n",
        "  UEFA_name_port.remove(port1[i])\n",
        "\n",
        "\n",
        "port2 = random.sample(UEFA_name_port, 8)\n",
        "for i in range(len(port2)):\n",
        "  UEFA_name_port.remove(port2[i])\n",
        "\n",
        "port3 = random.sample(UEFA_name_port, 8)\n",
        "for i in range(len(port3)):\n",
        "  UEFA_name_port.remove(port3[i])\n",
        "\n",
        "port4 = UEFA_name_port"
      ],
      "metadata": {
        "id": "rRRmwVn9VbYR"
      },
      "execution_count": null,
      "outputs": []
    },
    {
      "cell_type": "markdown",
      "source": [
        "#### 그룹 편성"
      ],
      "metadata": {
        "id": "xEaGHrFaVdM_"
      }
    },
    {
      "cell_type": "code",
      "source": [
        "a=Team_selet(port1,port2,port3,port4)\n",
        "groupA=a[0]\n",
        "groupB=a[1]\n",
        "groupC=a[2]\n",
        "groupD=a[3]\n",
        "groupE=a[4]\n",
        "groupF=a[5]\n",
        "groupG=a[6]\n",
        "groupH=a[7]\n",
        "\n",
        "print(groupA)\n",
        "print(groupB) \n",
        "print(groupC) \n",
        "print(groupD)\n",
        "print(groupE)\n",
        "print(groupF)\n",
        "print(groupG)\n",
        "print(groupH)"
      ],
      "metadata": {
        "id": "Wueu9EqCVfjm"
      },
      "execution_count": null,
      "outputs": []
    },
    {
      "cell_type": "code",
      "source": [
        "#나라 중복 검사\n",
        "AAA=[]\n",
        "BBB=[]\n",
        "CCC=[]\n",
        "DDD=[]\n",
        "EEE=[]\n",
        "FFF=[]\n",
        "GGG=[]\n",
        "HHH=[]\n",
        "for i in range(4):\n",
        "  AA=groupA[i]\n",
        "  AAA=AAA+[AA[0:2]]\n",
        "  BB=groupB[i]\n",
        "  BBB=BBB+[BB[0:2]]\n",
        "  CC=groupC[i]\n",
        "  CCC=CCC+[CC[0:2]]\n",
        "  DD=groupD[i]\n",
        "  DDD=DDD+[DD[0:2]]  \n",
        "  DD=groupD[i]\n",
        "  DDD=DDD+[DD[0:2]]  \n",
        "  EE=groupE[i]\n",
        "  EEE=EEE+[EE[0:2]]  \n",
        "  FF=groupF[i]\n",
        "  FFF=FFF+[FF[0:2]]  \n",
        "  GG=groupG[i]\n",
        "  GGG=GGG+[GG[0:2]]    \n",
        "  HH=groupH[i]\n",
        "  HHH=HHH+[HH[0:2]]   \n",
        "\n",
        "result_A=list(np.unique(AAA))\n",
        "result_B=list(np.unique(BBB))\n",
        "result_C=list(np.unique(CCC))\n",
        "result_D=list(np.unique(DDD))\n",
        "result_E=list(np.unique(EEE))\n",
        "result_F=list(np.unique(FFF))\n",
        "result_G=list(np.unique(GGG))\n",
        "result_H=list(np.unique(HHH))\n",
        "\n",
        "#중복일 경우, 다시 shuffle로 다시 group 배정!\n",
        "while len(result_A)!=4 or len(result_B)!=4 or len(result_C)!=4 or len(result_D)!=4 or len(result_E)!=4 or len(result_F)!=4 or  len(result_G)!=4 or len(result_H)!=4:\n",
        "  random.shuffle(port1)\n",
        "  random.shuffle(port2)\n",
        "  random.shuffle(port3)\n",
        "  random.shuffle(port4)  \n",
        "  a=Team_selet(port1,port2,port3,port4)\n",
        "  groupA=a[0]\n",
        "  groupB=a[1]\n",
        "  groupC=a[2]\n",
        "  groupD=a[3]\n",
        "  groupE=a[4]\n",
        "  groupF=a[5]\n",
        "  groupG=a[6]\n",
        "  groupH=a[7]\n",
        "  AAA=[]\n",
        "  BBB=[]\n",
        "  CCC=[]\n",
        "  DDD=[]\n",
        "  EEE=[]\n",
        "  FFF=[]\n",
        "  GGG=[]\n",
        "  HHH=[]\n",
        "  for i in range(4):\n",
        "    AA=groupA[i]\n",
        "    AAA=AAA+[AA[0:2]]\n",
        "    BB=groupB[i]\n",
        "    BBB=BBB+[BB[0:2]]\n",
        "    CC=groupC[i]\n",
        "    CCC=CCC+[CC[0:2]]\n",
        "    DD=groupD[i]\n",
        "    DDD=DDD+[DD[0:2]]  \n",
        "    DD=groupD[i]\n",
        "    DDD=DDD+[DD[0:2]]  \n",
        "    EE=groupE[i]\n",
        "    EEE=EEE+[EE[0:2]]  \n",
        "    FF=groupF[i]\n",
        "    FFF=FFF+[FF[0:2]]  \n",
        "    GG=groupG[i]\n",
        "    GGG=GGG+[GG[0:2]]    \n",
        "    HH=groupH[i]\n",
        "    HHH=HHH+[HH[0:2]]   \n",
        "\n",
        "  result_A=list(np.unique(AAA))\n",
        "  result_B=list(np.unique(BBB))\n",
        "  result_C=list(np.unique(CCC))\n",
        "  result_D=list(np.unique(DDD))\n",
        "  result_E=list(np.unique(EEE))\n",
        "  result_F=list(np.unique(FFF))\n",
        "  result_G=list(np.unique(GGG))\n",
        "  result_H=list(np.unique(HHH))\n",
        "\n",
        "#최종 group\n",
        "print(groupA)\n",
        "print(groupB) \n",
        "print(groupC) \n",
        "print(groupD)\n",
        "print(groupE)\n",
        "print(groupF)\n",
        "print(groupG)\n",
        "print(groupH)"
      ],
      "metadata": {
        "id": "rcg4aQ5TVlHQ"
      },
      "execution_count": null,
      "outputs": []
    },
    {
      "cell_type": "markdown",
      "source": [
        "### 32강"
      ],
      "metadata": {
        "id": "gv8HdHQOUTct"
      }
    },
    {
      "cell_type": "markdown",
      "source": [
        "#### 32강 경기"
      ],
      "metadata": {
        "id": "ibVG3F6FUUxW"
      }
    },
    {
      "cell_type": "code",
      "source": [
        "groupA_1, groupA_2, grA_1_sc, grA_2_sc, grA_3_sc, grA_4_sc = Ranking(groupA[0],groupA[1],groupA[2],groupA[3]) # 팀 A의 1,2위\n",
        "\n",
        "groupB_1, groupB_2, grB_1_sc, grB_2_sc, grB_3_sc, grB_4_sc = Ranking(groupB[0],groupB[1],groupB[2],groupB[3]) # 팀 B의 1,2위\n",
        "\n",
        "groupC_1, groupC_2, grC_1_sc, grC_2_sc, grC_3_sc, grC_4_sc = Ranking(groupC[0],groupC[1],groupC[2],groupC[3]) # 팀 C의 1,2위\n",
        "\n",
        "groupD_1, groupD_2, grD_1_sc, grD_2_sc, grD_3_sc, grD_4_sc = Ranking(groupD[0],groupD[1],groupD[2],groupD[3]) # 팀 D의 1,2위\n",
        "\n",
        "groupE_1, groupE_2, grE_1_sc, grE_2_sc, grE_3_sc, grE_4_sc = Ranking(groupE[0],groupE[1],groupE[2],groupE[3]) # 팀 E의 1,2위\n",
        "\n",
        "groupF_1, groupF_2, grF_1_sc, grF_2_sc, grF_3_sc, grF_4_sc = Ranking(groupF[0],groupF[1],groupF[2],groupF[3]) # 팀 F의 1,2위\n",
        "\n",
        "groupG_1, groupG_2, grG_1_sc, grG_2_sc, grG_3_sc, grG_4_sc = Ranking(groupG[0],groupG[1],groupG[2],groupG[3]) # 팀 G의 1,2위\n",
        "\n",
        "groupH_1, groupH_2, grH_1_sc, grH_2_sc, grH_3_sc, grH_4_sc = Ranking(groupH[0],groupH[1],groupH[2],groupH[3]) # 팀 H의 1,2위\n",
        "\n",
        "\n",
        "\n",
        "print(groupA_1, groupA_2,groupB_1, groupB_2,groupC_1, groupC_2,groupD_1, groupD_2,groupE_1, groupE_2,groupF_1, groupF_2,groupG_1, groupG_2,groupH_1, groupH_2)"
      ],
      "metadata": {
        "id": "qsCif3_ZWBMn"
      },
      "execution_count": null,
      "outputs": []
    },
    {
      "cell_type": "markdown",
      "source": [
        "#### 32강 경기 시각화"
      ],
      "metadata": {
        "id": "bMZ60LZnUWOH"
      }
    },
    {
      "cell_type": "code",
      "source": [
        "digraph_32 = graphviz.Graph(comment=\"The Round Table\")\n",
        "digraph_32.node(\"32강\")\n",
        "digraph_32.node(\"groupA\")\n",
        "digraph_32.node(\"groupB\")\n",
        "digraph_32.node(\"groupC\")\n",
        "digraph_32.node(\"groupD\")\n",
        "digraph_32.node(\"groupE\")\n",
        "digraph_32.node(\"groupF\")\n",
        "digraph_32.node(\"groupG\")\n",
        "digraph_32.node(\"groupH\")\n",
        "digraph_32.edge(\"32강\", \"groupA\")\n",
        "digraph_32.edge(\"32강\", \"groupB\")\n",
        "digraph_32.edge(\"32강\", \"groupC\")\n",
        "digraph_32.edge(\"32강\", \"groupD\")\n",
        "digraph_32.edge(\"32강\", \"groupE\")\n",
        "digraph_32.edge(\"32강\", \"groupF\")\n",
        "digraph_32.edge(\"32강\", \"groupG\")\n",
        "digraph_32.edge(\"32강\", \"groupH\")\n",
        "\n",
        "for i in range(0,4):\n",
        "  digraph_32.node(groupA[i])\n",
        "  digraph_32.edge(\"groupA\", groupA[i])\n",
        "  digraph_32.node(groupB[i])\n",
        "  digraph_32.edge(\"groupB\", groupB[i])  \n",
        "  digraph_32.node(groupC[i])\n",
        "  digraph_32.edge(\"groupC\", groupC[i])  \n",
        "  digraph_32.node(groupD[i])\n",
        "  digraph_32.edge(\"groupD\", groupD[i])  \n",
        "  digraph_32.node(groupE[i])\n",
        "  digraph_32.edge(\"groupE\", groupE[i])    \n",
        "  digraph_32.node(groupF[i])\n",
        "  digraph_32.edge(\"groupF\", groupF[i])  \n",
        "  digraph_32.node(groupG[i])\n",
        "  digraph_32.edge(\"groupG\", groupG[i])  \n",
        "  digraph_32.node(groupH[i])\n",
        "  digraph_32.edge(\"groupH\", groupH[i])    \n",
        "\n",
        "save_graph_as_svg(digraph_32, 'round table')"
      ],
      "metadata": {
        "id": "2dcpE-zOWAPl"
      },
      "execution_count": null,
      "outputs": []
    },
    {
      "cell_type": "markdown",
      "source": [
        "### 16강"
      ],
      "metadata": {
        "id": "V1sBAF8aUY9D"
      }
    },
    {
      "cell_type": "markdown",
      "source": [
        "#### 16강 경기"
      ],
      "metadata": {
        "id": "ZKUyHV56Ue2c"
      }
    },
    {
      "cell_type": "code",
      "source": [
        "match_16_1, win_16_1, lose_16_1 = Match(groupA_1,groupB_2) # 팀A 1위, 팀B 2위 경기 (16강 1조)\n",
        "\n",
        "match_16_2, win_16_2, lose_16_2 = Match(groupB_1,groupA_2) # 팀B 1위, 팀A 2위 경기 (16강 2조)\n",
        "\n",
        "match_16_3, win_16_3, lose_16_3 = Match(groupC_1,groupD_2) # 팀C 1위, 팀D 2위 경기 (16강 3조)\n",
        "\n",
        "match_16_4, win_16_4, lose_16_4 = Match(groupD_1,groupC_2) # 팀D 1위, 팀C 2위 경기 (16강 4조)\n",
        "\n",
        "match_16_5, win_16_5, lose_16_5 = Match(groupE_1,groupF_2) # 팀E 1위, 팀F 2위 경기 (16강 5조)\n",
        "\n",
        "match_16_6, win_16_6, lose_16_6 = Match(groupF_1,groupE_2) # 팀F 1위, 팀E 2위 경기 (16강 6조)\n",
        "\n",
        "match_16_7, win_16_7, lose_16_7 = Match(groupG_1,groupH_2) # 팀G 1위, 팀H 2위 경기 (16강 7조)\n",
        "\n",
        "match_16_8, win_16_8, lose_16_8 = Match(groupH_1,groupG_2) # 팀H 1위, 팀G 2위 경기 (16강 8조)\n",
        "\n",
        "\n",
        "\n",
        "print(match_16_1,match_16_2,match_16_3,match_16_4,match_16_5,match_16_6,match_16_7,match_16_8)"
      ],
      "metadata": {
        "id": "rUwfkNEHWEnX"
      },
      "execution_count": null,
      "outputs": []
    },
    {
      "cell_type": "markdown",
      "source": [
        "#### 16강 경기 시각화"
      ],
      "metadata": {
        "id": "1TijFbTIUgcV"
      }
    },
    {
      "cell_type": "code",
      "source": [
        "digraph_16 = graphviz.Graph(comment=\"The Round Table\")\n",
        "\n",
        "digraph_16.edge(\"16강\", match_16_1 + \"_16\")\n",
        "digraph_16.edge(\"16강\", match_16_2 + \"_16\")\n",
        "digraph_16.edge(\"16강\", match_16_3 + \"_16\")\n",
        "digraph_16.edge(\"16강\", match_16_4 + \"_16\")\n",
        "digraph_16.edge(\"16강\", match_16_5 + \"_16\")\n",
        "digraph_16.edge(\"16강\", match_16_6 + \"_16\")\n",
        "digraph_16.edge(\"16강\", match_16_7 + \"_16\")\n",
        "digraph_16.edge(\"16강\", match_16_8 + \"_16\")\n",
        "\n",
        "digraph_16.edge(match_16_1 + \"_16\",groupA_1)\n",
        "digraph_16.edge(match_16_1 + \"_16\",groupB_2)\n",
        "digraph_16.edge(match_16_2 + \"_16\",groupA_2)\n",
        "digraph_16.edge(match_16_2 + \"_16\",groupB_1)\n",
        "digraph_16.edge(match_16_3 + \"_16\",groupC_1)\n",
        "digraph_16.edge(match_16_3 + \"_16\",groupD_2)\n",
        "digraph_16.edge(match_16_4 + \"_16\",groupC_2)\n",
        "digraph_16.edge(match_16_4 + \"_16\",groupD_1)\n",
        "digraph_16.edge(match_16_5 + \"_16\",groupE_1)\n",
        "digraph_16.edge(match_16_5 + \"_16\",groupF_2)\n",
        "digraph_16.edge(match_16_6 + \"_16\",groupE_2)\n",
        "digraph_16.edge(match_16_6 + \"_16\",groupF_1)\n",
        "digraph_16.edge(match_16_7 + \"_16\",groupG_1)\n",
        "digraph_16.edge(match_16_7 + \"_16\",groupH_2)\n",
        "digraph_16.edge(match_16_8 + \"_16\",groupG_2)\n",
        "digraph_16.edge(match_16_8 + \"_16\",groupH_1)\n",
        "\n",
        "\n",
        "save_graph_as_svg(digraph_16, 'round table')"
      ],
      "metadata": {
        "id": "X9grPjdoWIF2"
      },
      "execution_count": null,
      "outputs": []
    },
    {
      "cell_type": "markdown",
      "source": [
        "### 8강"
      ],
      "metadata": {
        "id": "etLrTa7SUjG9"
      }
    },
    {
      "cell_type": "markdown",
      "source": [
        "#### 8강 경기"
      ],
      "metadata": {
        "id": "sWnZ9R0IUlyl"
      }
    },
    {
      "cell_type": "code",
      "source": [
        "match_8_1, win_8_1, lose_8_1 = Match(match_16_1,match_16_2) # 16강 1조, 2조 경기 (8강 1조)\n",
        "\n",
        "match_8_2, win_8_2, lose_8_2 = Match(match_16_3,match_16_4) # 16강 3조, 4조 경기 (8강 2조)\n",
        "\n",
        "match_8_3, win_8_3, lose_8_3 = Match(match_16_5,match_16_6) # 16강 5조, 6조 경기 (8강 3조)\n",
        "\n",
        "match_8_4, win_8_4, lose_8_4 = Match(match_16_7,match_16_8) # 16강 7조, 8조 경기 (8강 4조)\n",
        "\n",
        "\n",
        "\n",
        "print(match_8_1,match_8_2,match_8_3,match_8_4)"
      ],
      "metadata": {
        "id": "s2PNqnItWKJh"
      },
      "execution_count": null,
      "outputs": []
    },
    {
      "cell_type": "markdown",
      "source": [
        "#### 8강 경기 시각화"
      ],
      "metadata": {
        "id": "syQpidXKUnFz"
      }
    },
    {
      "cell_type": "code",
      "source": [
        "digraph_8 = graphviz.Graph(comment=\"The Round Table\")\n",
        "digraph_8.node(\"8강\")\n",
        "digraph_8.node(match_16_1)\n",
        "digraph_8.node(match_16_2)\n",
        "digraph_8.node(match_16_3)\n",
        "digraph_8.node(match_16_4)\n",
        "digraph_8.node(match_16_5)\n",
        "digraph_8.node(match_16_6)\n",
        "digraph_8.node(match_16_7)\n",
        "digraph_8.node(match_16_8)\n",
        "digraph_8.node(match_8_1)\n",
        "digraph_8.node(match_8_2)\n",
        "digraph_8.node(match_8_3)\n",
        "digraph_8.node(match_8_4)\n",
        "\n",
        "digraph_8.edge(\"8강\", match_8_1 + \"_8\")\n",
        "digraph_8.edge(\"8강\", match_8_2 + \"_8\")\n",
        "digraph_8.edge(\"8강\", match_8_3 + \"_8\")\n",
        "digraph_8.edge(\"8강\", match_8_4 + \"_8\")\n",
        "\n",
        "digraph_8.edge(match_8_1+ \"_8\", match_16_1)\n",
        "digraph_8.edge(match_8_1+ \"_8\", match_16_2)\n",
        "digraph_8.edge(match_8_2+ \"_8\", match_16_3)\n",
        "digraph_8.edge(match_8_2+ \"_8\", match_16_4)\n",
        "digraph_8.edge(match_8_3+ \"_8\", match_16_5)\n",
        "digraph_8.edge(match_8_3+ \"_8\", match_16_6)\n",
        "digraph_8.edge(match_8_4+ \"_8\", match_16_7)\n",
        "digraph_8.edge(match_8_4+ \"_8\", match_16_8)\n",
        "\n",
        "\n",
        "save_graph_as_svg(digraph_8, 'round table')"
      ],
      "metadata": {
        "id": "TriSvk2LWp5P"
      },
      "execution_count": null,
      "outputs": []
    },
    {
      "cell_type": "markdown",
      "source": [
        "### 4강"
      ],
      "metadata": {
        "id": "O3K_0SbaUpHT"
      }
    },
    {
      "cell_type": "markdown",
      "source": [
        "#### 4강 경기"
      ],
      "metadata": {
        "id": "d_i_onzPUrJP"
      }
    },
    {
      "cell_type": "code",
      "source": [
        "match_4_1, win_4_1, lose_4_1 = Match(match_8_1,match_8_2) # 8강 1,2조\n",
        "\n",
        "match_4_2, win_4_2, lose_4_2 = Match(match_8_3,match_8_4) # 8강 3,4조\n",
        "\n",
        "\n",
        "\n",
        "print(match_4_1,match_4_2)"
      ],
      "metadata": {
        "id": "jI8x0aGLWyVO"
      },
      "execution_count": null,
      "outputs": []
    },
    {
      "cell_type": "markdown",
      "source": [
        "#### 4강 경기 시각화"
      ],
      "metadata": {
        "id": "clTvsjbHUsdJ"
      }
    },
    {
      "cell_type": "code",
      "source": [
        "digraph_4 = graphviz.Graph(comment=\"The Round Table\")\n",
        "digraph_4.node(\"4강\")\n",
        "digraph_4.node(match_8_1)\n",
        "digraph_4.node(match_8_2)\n",
        "digraph_4.node(match_8_3)\n",
        "digraph_4.node(match_8_4)\n",
        "digraph_4.node(match_4_1)\n",
        "digraph_4.node(match_4_2)\n",
        "\n",
        "digraph_4.edge(\"4강\", match_4_1 + \"_4\")\n",
        "digraph_4.edge(\"4강\", match_4_2 + \"_4\")\n",
        "\n",
        "digraph_4.edge(match_4_1+ \"_4\", match_8_1)\n",
        "digraph_4.edge(match_4_1+ \"_4\", match_8_2)\n",
        "digraph_4.edge(match_4_2+ \"_4\", match_8_3)\n",
        "digraph_4.edge(match_4_2+ \"_4\", match_8_4)\n",
        "\n",
        "\n",
        "save_graph_as_svg(digraph_4, 'round table')"
      ],
      "metadata": {
        "id": "3ykWEKyUWz3x"
      },
      "execution_count": null,
      "outputs": []
    },
    {
      "cell_type": "markdown",
      "source": [
        "### 결승전"
      ],
      "metadata": {
        "id": "hXljuyi_Uuk5"
      }
    },
    {
      "cell_type": "markdown",
      "source": [
        "#### 결승전 경기"
      ],
      "metadata": {
        "id": "pCIyU9YKUwON"
      }
    },
    {
      "cell_type": "code",
      "source": [
        "winer, win_2_1, lose_2_1 = Match(match_4_1,match_4_2) # 결승\n",
        "\n",
        "\n",
        "\n",
        "\n",
        "print(winer)"
      ],
      "metadata": {
        "id": "VonW4EX8W5Vm"
      },
      "execution_count": null,
      "outputs": []
    },
    {
      "cell_type": "markdown",
      "source": [
        "#### 결승전 경기 시각화"
      ],
      "metadata": {
        "id": "mF6pVQdkUxlY"
      }
    },
    {
      "cell_type": "code",
      "source": [
        "digraph_2 = graphviz.Graph(comment=\"The Round Table\")\n",
        "digraph_2.node(\"결승전\")\n",
        "digraph_2.node(match_4_1)\n",
        "digraph_2.node(match_4_2)\n",
        "digraph_2.node(winer)\n",
        "\n",
        "digraph_2.edge(\"결승전\", winer + \"_winer\")\n",
        "\n",
        "\n",
        "digraph_2.edge(winer+ \"_winer\", match_4_1)\n",
        "digraph_2.edge(winer+ \"_winer\", match_4_2)\n",
        "\n",
        "\n",
        "save_graph_as_svg(digraph_2, 'round table')"
      ],
      "metadata": {
        "id": "TjdilXn4W7Fi"
      },
      "execution_count": null,
      "outputs": []
    },
    {
      "cell_type": "markdown",
      "source": [
        "### 전체 경기 시각화 "
      ],
      "metadata": {
        "id": "v6StyWHeU0Gp"
      }
    },
    {
      "cell_type": "markdown",
      "source": [
        "#### 16강 ~ 결승전"
      ],
      "metadata": {
        "id": "q_xUeyAYU2cg"
      }
    },
    {
      "cell_type": "code",
      "source": [
        "digraph_16T = graphviz.Graph(comment=\"The Round Table\")\n",
        "\n",
        "digraph_16T.edge(winer+ \"_winer\", match_4_1+ \"_4\", \"  결승전\")\n",
        "digraph_16T.edge(winer+ \"_winer\", match_4_2+ \"_4\")\n",
        "\n",
        "digraph_16T.edge(match_4_1+ \"_4\", match_8_1+ \"_8\", \"  4강\")\n",
        "digraph_16T.edge(match_4_1+ \"_4\", match_8_2+ \"_8\")\n",
        "digraph_16T.edge(match_4_2+ \"_4\", match_8_3+ \"_8\")\n",
        "digraph_16T.edge(match_4_2+ \"_4\", match_8_4+ \"_8\")\n",
        "\n",
        "digraph_16T.edge(match_8_1+ \"_8\", match_16_1+ \"_16\", \"  8강\")\n",
        "digraph_16T.edge(match_8_1+ \"_8\", match_16_2+ \"_16\")\n",
        "digraph_16T.edge(match_8_2+ \"_8\", match_16_3+ \"_16\")\n",
        "digraph_16T.edge(match_8_2+ \"_8\", match_16_4+ \"_16\")\n",
        "digraph_16T.edge(match_8_3+ \"_8\", match_16_5+ \"_16\")\n",
        "digraph_16T.edge(match_8_3+ \"_8\", match_16_6+ \"_16\")\n",
        "digraph_16T.edge(match_8_4+ \"_8\", match_16_7+ \"_16\")\n",
        "digraph_16T.edge(match_8_4+ \"_8\", match_16_8+ \"_16\")\n",
        "\n",
        "digraph_16T.edge(match_16_1 + \"_16\",groupA_1 + \"_GrA_1\", \"  16강\")\n",
        "digraph_16T.edge(match_16_1 + \"_16\",groupB_2 + \"_GrB_2\")\n",
        "digraph_16T.edge(match_16_2 + \"_16\",groupA_2 + \"_GrA_2\")\n",
        "digraph_16T.edge(match_16_2 + \"_16\",groupB_1 + \"_GrB_1\")\n",
        "digraph_16T.edge(match_16_3 + \"_16\",groupC_1 + \"_GrC_1\")\n",
        "digraph_16T.edge(match_16_3 + \"_16\",groupD_2 + \"_GrD_2\")\n",
        "digraph_16T.edge(match_16_4 + \"_16\",groupC_2 + \"_GrC_2\")\n",
        "digraph_16T.edge(match_16_4 + \"_16\",groupD_1 + \"_GrD_1\")\n",
        "digraph_16T.edge(match_16_5 + \"_16\",groupE_1 + \"_GrE_1\")\n",
        "digraph_16T.edge(match_16_5 + \"_16\",groupF_2 + \"_GrF_2\")\n",
        "digraph_16T.edge(match_16_6 + \"_16\",groupE_2 + \"_GrE_2\")\n",
        "digraph_16T.edge(match_16_6 + \"_16\",groupF_1 + \"_GrF_1\")\n",
        "digraph_16T.edge(match_16_7 + \"_16\",groupG_1 + \"_GrG_1\")\n",
        "digraph_16T.edge(match_16_7 + \"_16\",groupH_2 + \"_GrH_2\")\n",
        "digraph_16T.edge(match_16_8 + \"_16\",groupG_2 + \"_GrG_2\")\n",
        "digraph_16T.edge(match_16_8 + \"_16\",groupH_1 + \"_GrH_1\")\n",
        "\n",
        "save_graph_as_svg(digraph_16T, 'round table')"
      ],
      "metadata": {
        "id": "PO3HDESPXF5t"
      },
      "execution_count": null,
      "outputs": []
    },
    {
      "cell_type": "markdown",
      "source": [
        "#### 32강 ~ 결승전"
      ],
      "metadata": {
        "id": "Uexr0Cx8U4w1"
      }
    },
    {
      "cell_type": "code",
      "source": [
        "digraph_T = graphviz.Graph(comment=\"The Round Table\")\n",
        "\n",
        "digraph_T.edge(winer+ \"_winer\", match_4_1+ \"_4\", \"  결승전\")\n",
        "digraph_T.edge(winer+ \"_winer\", match_4_2+ \"_4\")\n",
        "\n",
        "digraph_T.edge(match_4_1+ \"_4\", match_8_1+ \"_8\", \"  4강\")\n",
        "digraph_T.edge(match_4_1+ \"_4\", match_8_2+ \"_8\")\n",
        "digraph_T.edge(match_4_2+ \"_4\", match_8_3+ \"_8\")\n",
        "digraph_T.edge(match_4_2+ \"_4\", match_8_4+ \"_8\")\n",
        "\n",
        "\n",
        "digraph_T.edge(match_8_1+ \"_8\", match_16_1+ \"_16\", \"  8강\")\n",
        "digraph_T.edge(match_8_1+ \"_8\", match_16_2+ \"_16\")\n",
        "digraph_T.edge(match_8_2+ \"_8\", match_16_3+ \"_16\")\n",
        "digraph_T.edge(match_8_2+ \"_8\", match_16_4+ \"_16\")\n",
        "digraph_T.edge(match_8_3+ \"_8\", match_16_5+ \"_16\")\n",
        "digraph_T.edge(match_8_3+ \"_8\", match_16_6+ \"_16\")\n",
        "digraph_T.edge(match_8_4+ \"_8\", match_16_7+ \"_16\")\n",
        "digraph_T.edge(match_8_4+ \"_8\", match_16_8+ \"_16\")\n",
        "\n",
        "digraph_T.edge(match_16_1 + \"_16\",groupA_1 + \"_GrA_1\", \"  16강\")\n",
        "digraph_T.edge(match_16_1 + \"_16\",groupB_2 + \"_GrB_2\")\n",
        "digraph_T.edge(match_16_2 + \"_16\",groupA_2 + \"_GrA_2\")\n",
        "digraph_T.edge(match_16_2 + \"_16\",groupB_1 + \"_GrB_1\")\n",
        "digraph_T.edge(match_16_3 + \"_16\",groupC_1 + \"_GrC_1\")\n",
        "digraph_T.edge(match_16_3 + \"_16\",groupD_2 + \"_GrD_2\")\n",
        "digraph_T.edge(match_16_4 + \"_16\",groupC_2 + \"_GrC_2\")\n",
        "digraph_T.edge(match_16_4 + \"_16\",groupD_1 + \"_GrD_1\")\n",
        "digraph_T.edge(match_16_5 + \"_16\",groupE_1 + \"_GrE_1\")\n",
        "digraph_T.edge(match_16_5 + \"_16\",groupF_2 + \"_GrF_2\")\n",
        "digraph_T.edge(match_16_6 + \"_16\",groupE_2 + \"_GrE_2\")\n",
        "digraph_T.edge(match_16_6 + \"_16\",groupF_1 + \"_GrF_1\")\n",
        "digraph_T.edge(match_16_7 + \"_16\",groupG_1 + \"_GrG_1\")\n",
        "digraph_T.edge(match_16_7 + \"_16\",groupH_2 + \"_GrH_2\")\n",
        "digraph_T.edge(match_16_8 + \"_16\",groupG_2 + \"_GrG_2\")\n",
        "digraph_T.edge(match_16_8 + \"_16\",groupH_1 + \"_GrH_1\")\n",
        "\n",
        "digraph_T.edge(groupA_1 + \"_GrA_1\", \"groupA\")\n",
        "digraph_T.edge(groupA_2 + \"_GrA_2\", \"groupA\")\n",
        "digraph_T.edge(groupB_1 + \"_GrB_1\", \"groupB\")\n",
        "digraph_T.edge(groupB_2 + \"_GrB_2\", \"groupB\")\n",
        "digraph_T.edge(groupC_1 + \"_GrC_1\", \"groupC\")\n",
        "digraph_T.edge(groupD_1 + \"_GrD_1\", \"groupD\")\n",
        "digraph_T.edge(groupE_1 + \"_GrE_1\", \"groupE\")\n",
        "digraph_T.edge(groupF_1 + \"_GrF_1\", \"groupF\")\n",
        "digraph_T.edge(groupG_1 + \"_GrG_1\", \"groupG\")\n",
        "digraph_T.edge(groupH_1 + \"_GrH_1\", \"groupH\")\n",
        "digraph_T.edge(groupC_2 + \"_GrC_2\", \"groupC\")\n",
        "digraph_T.edge(groupD_2 + \"_GrD_2\", \"groupD\")\n",
        "digraph_T.edge(groupE_2 + \"_GrE_2\", \"groupE\")\n",
        "digraph_T.edge(groupF_2 + \"_GrF_2\", \"groupF\")\n",
        "digraph_T.edge(groupG_2 + \"_GrG_2\", \"groupG\")\n",
        "digraph_T.edge(groupH_2 + \"_GrH_2\", \"groupH\")\n",
        "\n",
        "for i in range(0,4):\n",
        "  digraph_T.node(groupA[i])\n",
        "  digraph_T.edge(\"groupA\", groupA[i])\n",
        "  digraph_T.node(groupB[i])\n",
        "  digraph_T.edge(\"groupB\", groupB[i])  \n",
        "  digraph_T.node(groupC[i])\n",
        "  digraph_T.edge(\"groupC\", groupC[i])  \n",
        "  digraph_T.node(groupD[i])\n",
        "  digraph_T.edge(\"groupD\", groupD[i])  \n",
        "  digraph_T.node(groupE[i])\n",
        "  digraph_T.edge(\"groupE\", groupE[i])    \n",
        "  digraph_T.node(groupF[i])\n",
        "  digraph_T.edge(\"groupF\", groupF[i])  \n",
        "  digraph_T.node(groupG[i])\n",
        "  digraph_T.edge(\"groupG\", groupG[i])  \n",
        "  digraph_T.node(groupH[i])\n",
        "  digraph_T.edge(\"groupH\", groupH[i])  \n",
        "\n",
        "save_graph_as_svg(digraph_T, 'round table')"
      ],
      "metadata": {
        "id": "6yDrQ5Z2XGyb"
      },
      "execution_count": null,
      "outputs": []
    }
  ]
}